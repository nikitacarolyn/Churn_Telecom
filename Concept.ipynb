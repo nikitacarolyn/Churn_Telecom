{
 "cells": [
  {
   "cell_type": "markdown",
   "id": "508c653a-43b9-482d-a982-73fc3749b3d1",
   "metadata": {
    "tags": []
   },
   "source": [
    "- Artificial Intelligence\n",
    "- How can we program an AI to build a game? a. search figuring ut what move to make? what action to take\n",
    "- Knowledge to draw inferences and conclusion\n",
    "- Uncertainity. probability. \n",
    "- Optimization. Best way to attain a goal.\n",
    "- general machine learning. "
   ]
  },
  {
   "cell_type": "markdown",
   "id": "7ca74902-8c62-4181-9a1f-380b83f0d9d2",
   "metadata": {},
   "source": [
    "- Terminology:\n",
    "- Agent: entity that perceives its environment and acts upon that environment.\n",
    "\n",
    "- State: a configuration of the agents and its environment\n",
    "- Initial state: where the agent begins to find the goal\n",
    "- Action(s): choices that can be made in a state. (mathematical function: returns the set of actions that can be executed in state s (input) )\n",
    "- Transition model: a description of what the state results from performing any applicable actions in any given state.Result(s, a) returns the state resulting from performing action a in state s. two input s is state in the environment and a as action.\n",
    "- state space : the set of all the states reachable from the initial state by any sequence of actions. \n",
    "- goal test: way to determine wheteher a given state is a goal state\n",
    "- path cost: numerical cost associate within a given path. (Numerical cost, be it in time or expenses)"
   ]
  },
  {
   "cell_type": "markdown",
   "id": "0e2d022d-d11b-45e7-b4be-a740c60b56d2",
   "metadata": {},
   "source": [
    "- Search problems:\n",
    "- Initial state\n",
    "- actions\n",
    "- transition model\n",
    "- goal test\n",
    "- path cost function\n",
    "--- \n",
    "- Optimal solution: lowest cost possible "
   ]
  },
  {
   "cell_type": "markdown",
   "id": "daf687d1-9ee7-45d9-9d2f-2a39bab01424",
   "metadata": {},
   "source": [
    "# Node (data structure to solve a problem)\n",
    "A data structure that keeps track of:\n",
    "- a state\n",
    "- a parent(before we got to the current state. base that generated this node)\n",
    "- an action (applied to parent to get node (backtracking) )\n",
    "- a path cost (from initial state to node)"
   ]
  },
  {
   "cell_type": "markdown",
   "id": "5f31c4fd-0f13-4e67-9a3f-ca5116f31425",
   "metadata": {
    "tags": []
   },
   "source": [
    "# Approach to data structure to solve a problem\n",
    "- Start with a frontier that contains the initial state ()\n",
    "- Repeat, a loop:\n",
    "  - if the frontier is empty, then no solution\n",
    "  - Remove a node from the frontier\n",
    "  - if that node contains goal state, return the solution\n",
    "  - expand node, add resulting nodes to the frontier. (all the possible actions )\n",
    "  (remove and also looking for where we can get to the next)"
   ]
  },
  {
   "cell_type": "code",
   "execution_count": 11,
   "id": "212e33c2-4e5d-45b5-9e28-ed687ce28b4c",
   "metadata": {
    "tags": []
   },
   "outputs": [],
   "source": [
    "from collections import deque"
   ]
  },
  {
   "cell_type": "code",
   "execution_count": 21,
   "id": "f453fdd8-7893-4808-8519-3bfb6ab72893",
   "metadata": {},
   "outputs": [
    {
     "name": "stdout",
     "output_type": "stream",
     "text": [
      "Path found: [(1, 0), (1, 0), (0, 1), (0, 1), (1, 0), (1, 0), (0, 1), (0, 1)]\n"
     ]
    }
   ],
   "source": [
    "\n",
    "class Node: #look up at our OOP class \n",
    "    def __init__(self, state, parent=None, action=None, path_cost=0):\n",
    "        self.state = state\n",
    "        self.parent = parent\n",
    "        self.action = action\n",
    "        self.path_cost = path_cost\n",
    "\n",
    "    def __str__(self):\n",
    "        return f\"Node: state={self.state}, action={self.action}, path_cost={self.path_cost}\"\n",
    "\n",
    "def find_goal(maze):\n",
    "    frontier = deque([Node((0, 0))])  # Starting position\n",
    "    explored = set()\n",
    "\n",
    "    while frontier:\n",
    "        current_node = frontier.popleft()\n",
    "        current_state = current_node.state\n",
    "\n",
    "        if current_state == (len(maze) - 1, len(maze[0]) - 1):  # Goal state reached\n",
    "            path = []\n",
    "            while current_node.parent:\n",
    "                path.append(current_node.action)\n",
    "                current_node = current_node.parent\n",
    "            return path[::-1]  # Reverse to get the path from start to goal\n",
    "\n",
    "        explored.add(current_state)\n",
    "\n",
    "        # Explore possible actions (up, down, left, right)\n",
    "        for action in [(0, 1), (0, -1), (1, 0), (-1, 0)]:\n",
    "            next_state = (current_state[0] + action[0], current_state[1] + action[1])\n",
    "\n",
    "            if next_state not in explored and 0 <= next_state[0] < len(maze) and 0 <= next_state[1] < len(maze[0]) and maze[next_state[0]][next_state[1]] != 1:\n",
    "                frontier.append(Node(next_state, current_node, action, current_node.path_cost + 1))\n",
    "\n",
    "    return None  # No solution found\n",
    "\n",
    "# Example maze represented as a 2D grid (0 for open path, 1 for wall) # for visual aid draw lines where the 1s are and leave the 0 alone in your sketch book :)\n",
    "maze = [\n",
    "    [0, 1, 0, 0, 0],\n",
    "    [0, 1, 0, 1, 0],\n",
    "    [0, 0, 0, 1, 0],\n",
    "    [0, 1, 0, 1, 0],\n",
    "    [0, 0, 0, 0, 0]\n",
    "]\n",
    "\n",
    "# Finding the path\n",
    "path = find_goal(maze)\n",
    "if path:\n",
    "    print(\"Path found:\", path)\n",
    "else:\n",
    "    print(\"No path found\")\n"
   ]
  },
  {
   "cell_type": "markdown",
   "id": "5cc90673-2925-4727-b912-09ce5924b313",
   "metadata": {},
   "source": [
    "-  Defining a Node class is to represent a state in the search space. Each node contains information such as its state, parent node, action taken to reach the current state, and path cost.\n",
    "- The find_goal function performs a breadth-first search to find a path from start position to goal position in the maze.\n",
    "- We start the search from the starting position i.e. 0 and explore neighboring cells (up,down,left or right) until we reach the goal position or exhaust all possibilities.\n",
    "- We keep track of explored states to avoid revisiting already explored states and prevent infinite loops.(using conditioal statement)\n",
    "- The function returns the path from the start to the goal if a solution is found, or None if no path exists."
   ]
  },
  {
   "cell_type": "markdown",
   "id": "fc0ef6aa-1fda-41c5-81fc-97f6b10f7b2c",
   "metadata": {},
   "source": [
    "# Game of tic tac toe\n",
    "A simple game algorithm of tic tac toe that illustrates that:\n",
    "- S0: Initial state, Players(s) that returns which player to move in state s. \n",
    "- Actions(s) that returns legal moves in state s, \n",
    "- Result(s,a) that returns state after action a taken in state s and terminal(s) that checks if the state s is a terminal state, \n",
    "- Utility(s) that is the final numerical value for terminal state s i.e 0 if x wins value is 1 if nobody won the game then value 0 and so on.  "
   ]
  },
  {
   "cell_type": "code",
   "execution_count": 78,
   "id": "1abd5488-0505-476b-ae63-a56fd2cf3f19",
   "metadata": {
    "tags": []
   },
   "outputs": [
    {
     "name": "stdout",
     "output_type": "stream",
     "text": [
      "\u001b[1m \u001b[0m|\u001b[1m \u001b[0m|\u001b[1m \u001b[0m\n",
      "-----\n",
      "\u001b[1m \u001b[0m|\u001b[1m \u001b[0m|\u001b[1m \u001b[0m\n",
      "-----\n",
      "\u001b[1m \u001b[0m|\u001b[1m \u001b[0m|\u001b[1m \u001b[0m\n",
      "-----\n",
      "Player X's turn\n"
     ]
    },
    {
     "name": "stdin",
     "output_type": "stream",
     "text": [
      "Player X, enter row and column (0-2):  1 1\n"
     ]
    },
    {
     "name": "stdout",
     "output_type": "stream",
     "text": [
      "\u001b[1m \u001b[0m|\u001b[1m \u001b[0m|\u001b[1m \u001b[0m\n",
      "-----\n",
      "\u001b[1m \u001b[0m|X|\u001b[1m \u001b[0m\n",
      "-----\n",
      "\u001b[1m \u001b[0m|\u001b[1m \u001b[0m|\u001b[1m \u001b[0m\n",
      "-----\n",
      "Player O's turn\n"
     ]
    },
    {
     "name": "stdin",
     "output_type": "stream",
     "text": [
      "Player O, enter row and column (0-2):  2 2 \n"
     ]
    },
    {
     "name": "stdout",
     "output_type": "stream",
     "text": [
      "\u001b[1m \u001b[0m|\u001b[1m \u001b[0m|\u001b[1m \u001b[0m\n",
      "-----\n",
      "\u001b[1m \u001b[0m|X|\u001b[1m \u001b[0m\n",
      "-----\n",
      "\u001b[1m \u001b[0m|\u001b[1m \u001b[0m|X\n",
      "-----\n",
      "Player O's turn\n"
     ]
    },
    {
     "name": "stdin",
     "output_type": "stream",
     "text": [
      "Player O, enter row and column (0-2):  0 0\n"
     ]
    },
    {
     "name": "stdout",
     "output_type": "stream",
     "text": [
      "X|\u001b[1m \u001b[0m|\u001b[1m \u001b[0m\n",
      "-----\n",
      "\u001b[1m \u001b[0m|X|\u001b[1m \u001b[0m\n",
      "-----\n",
      "\u001b[1m \u001b[0m|\u001b[1m \u001b[0m|X\n",
      "-----\n",
      "Player X wins!\n"
     ]
    }
   ],
   "source": [
    "class TicTacToe:\n",
    "    def __init__(self):\n",
    "        self.board = [[' ' for _ in range(3)] for _ in range(3)]\n",
    "        self.current_player = 'X'\n",
    "\n",
    "    def print_board(self):\n",
    "        for row in self.board:\n",
    "            visual_row = [cell if cell != ' ' else '\\033[1m \\033[0m' for cell in row]  # Highlight empty cells\n",
    "            print('|'.join(visual_row))\n",
    "            print('-' * 5)\n",
    "\n",
    "    def player_to_move(self, state):\n",
    "        x_count = sum(row.count('X') for row in state)\n",
    "        o_count = sum(row.count('O') for row in state)\n",
    "        return 'X' if x_count == o_count else 'O'\n",
    "\n",
    "    def actions(self, state):\n",
    "        moves = []\n",
    "        for i in range(3): # look up at loop within the loop\n",
    "            for j in range(3):\n",
    "                if state[i][j] == ' ':\n",
    "                    moves.append((i, j))\n",
    "        return moves\n",
    "\n",
    "    def result(self, state, action):\n",
    "        row, col = action\n",
    "        new_state = [row[:] for row in state]\n",
    "        new_state[row][col] = self.current_player\n",
    "        return new_state\n",
    "\n",
    "    def terminal(self, state):\n",
    "        # Check rows\n",
    "        for row in state:\n",
    "            if row[0] == row[1] == row[2] != ' ':\n",
    "                return True, row[0]\n",
    "\n",
    "        # Check columns\n",
    "        for col in range(3):\n",
    "            if state[0][col] == state[1][col] == state[2][col] != ' ':\n",
    "                return True, state[0][col]\n",
    "\n",
    "        # Check diagonals\n",
    "        if state[0][0] == state[1][1] == state[2][2] != ' ':\n",
    "            return True, state[0][0]\n",
    "        if state[0][2] == state[1][1] == state[2][0] != ' ':\n",
    "            return True, state[0][2]\n",
    "\n",
    "        # Check for draw\n",
    "        if all(state[i][j] != ' ' for i in range(3) for j in range(3)):\n",
    "            return True, None\n",
    "\n",
    "        return False, None\n",
    "\n",
    "    def utility(self, state):\n",
    "        terminal, winner = self.terminal(state)\n",
    "        if terminal:\n",
    "            if winner == 'X':\n",
    "                return 1\n",
    "            elif winner == 'O':\n",
    "                return -1\n",
    "            else:\n",
    "                return 0\n",
    "        else:\n",
    "            return None\n",
    "\n",
    "# Example usage:\n",
    "game = TicTacToe()\n",
    "game.print_board()\n",
    "\n",
    "while True:\n",
    "    moves = game.actions(game.board)\n",
    "    if not moves:\n",
    "        print(\"Game Over - Draw!\")\n",
    "        break\n",
    "\n",
    "    player = game.player_to_move(game.board)\n",
    "    print(f\"Player {player}'s turn\")\n",
    "\n",
    "    row, col = map(int, input(f\"Player {player}, enter row and column (0-2): \").split())\n",
    "    action = (row, col)\n",
    "\n",
    "    if action in moves:\n",
    "        game.board = game.result(game.board, action)\n",
    "        game.print_board()\n",
    "        terminal, winner = game.terminal(game.board)\n",
    "        if terminal:\n",
    "            if winner:\n",
    "                print(f\"Player {winner} wins!\")\n",
    "            else:\n",
    "                print(\"Game Over - Draw!\")\n",
    "            break\n",
    "    else:\n",
    "        print(\"Invalid move. Try again.\")\n"
   ]
  },
  {
   "cell_type": "code",
   "execution_count": null,
   "id": "10227d30-d263-4a9e-bb74-45438be673b0",
   "metadata": {},
   "outputs": [],
   "source": []
  }
 ],
 "metadata": {
  "kernelspec": {
   "display_name": "Python 3 (ipykernel)",
   "language": "python",
   "name": "python3"
  },
  "language_info": {
   "codemirror_mode": {
    "name": "ipython",
    "version": 3
   },
   "file_extension": ".py",
   "mimetype": "text/x-python",
   "name": "python",
   "nbconvert_exporter": "python",
   "pygments_lexer": "ipython3",
   "version": "3.10.9"
  }
 },
 "nbformat": 4,
 "nbformat_minor": 5
}
